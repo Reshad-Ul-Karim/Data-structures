{
  "cells": [
    {
      "cell_type": "code",
      "execution_count": null,
      "metadata": {
        "colab": {
          "base_uri": "https://localhost:8080/"
        },
        "id": "IPKFL-jVVbdT",
        "outputId": "88f2bb6e-3365-42b1-e415-267c45dc455c"
      },
      "outputs": [
        {
          "name": "stdout",
          "output_type": "stream",
          "text": [
            "Collecting fhm-unittest\n",
            "  Downloading fhm_unittest-1.0.1-py3-none-any.whl (2.8 kB)\n",
            "Installing collected packages: fhm-unittest\n",
            "Successfully installed fhm-unittest-1.0.1\n",
            "Collecting fuzzywuzzy\n",
            "  Downloading fuzzywuzzy-0.18.0-py2.py3-none-any.whl (18 kB)\n",
            "Installing collected packages: fuzzywuzzy\n",
            "Successfully installed fuzzywuzzy-0.18.0\n"
          ]
        },
        {
          "name": "stderr",
          "output_type": "stream",
          "text": [
            "/usr/local/lib/python3.10/dist-packages/fuzzywuzzy/fuzz.py:11: UserWarning: Using slow pure-python SequenceMatcher. Install python-Levenshtein to remove this warning\n",
            "  warnings.warn('Using slow pure-python SequenceMatcher. Install python-Levenshtein to remove this warning')\n"
          ]
        }
      ],
      "source": [
        "! pip3 install fhm-unittest\n",
        "! pip3 install fuzzywuzzy\n",
        "import fhm_unittest as unittest\n",
        "import numpy as np"
      ]
    },
    {
      "cell_type": "code",
      "execution_count": null,
      "metadata": {
        "id": "XnDK07Z5cvhK"
      },
      "outputs": [],
      "source": [
        "import numpy as np"
      ]
    },
    {
      "cell_type": "markdown",
      "metadata": {
        "id": "1JB5LsIsLKEb"
      },
      "source": [
        "# **TASK 1 PLAY RIGHT**"
      ]
    },
    {
      "cell_type": "code",
      "execution_count": 48,
      "metadata": {
        "colab": {
          "base_uri": "https://localhost:8080/"
        },
        "id": "8ZvTISl_JZOD",
        "outputId": "db391f59-8804-4e7d-f119-1c40219687b6"
      },
      "outputs": [
        {
          "output_type": "stream",
          "name": "stdout",
          "text": [
            "///  Test 01: Play Right  ///\n",
            "Task 1: [40 50 60 10 20 30]\n"
          ]
        }
      ],
      "source": [
        "import numpy as np\n",
        "\n",
        "def playRight(arr, beats):\n",
        "  for ch in beats:\n",
        "    if ch == 1:\n",
        "      temp = arr[len(arr)-1]\n",
        "      for i in range(len(arr)-1,0,-1):\n",
        "        arr[i] = arr[i-1]\n",
        "      arr[0] = temp\n",
        "  return arr\n",
        "\n",
        "print(\"///  Test 01: Play Right  ///\")\n",
        "sequence = np.array([10, 20, 30, 40, 50, 60])\n",
        "beats = np.array([1, 0, 0, 1, 0, 1])\n",
        "returned_value = playRight(sequence, beats)\n",
        "print(f'Task 1: {returned_value}')  # This should print [40, 50, 60, 10, 20, 30]"
      ]
    },
    {
      "cell_type": "markdown",
      "metadata": {
        "id": "4Ik5NNqnR4wT"
      },
      "source": [
        "# **Task 2**"
      ]
    },
    {
      "cell_type": "code",
      "execution_count": null,
      "metadata": {
        "colab": {
          "base_uri": "https://localhost:8080/"
        },
        "id": "CcnlK6PKTSwJ",
        "outputId": "5421b8fe-7c1c-451a-d180-5a4781ac1991"
      },
      "outputs": [
        {
          "name": "stdout",
          "output_type": "stream",
          "text": [
            "///  Test 02: Discard Cards  ///\n",
            "Task 2: [1 3 8 5 7 0 0 0 0]\n",
            "Accepted\n"
          ]
        }
      ],
      "source": [
        "import numpy as np\n",
        "\n",
        "# Test 02: Discard Cards\n",
        "def discardCards(cards,number):\n",
        "\n",
        "  results = np.array([0]*len(cards))\n",
        "  j= 0\n",
        "  for i in range(len(cards)):\n",
        "    if cards[i] != number:\n",
        "      results[j] = cards[i]\n",
        "      j+=1\n",
        "\n",
        "  return results\n",
        "\n",
        "print(\"///  Test 02: Discard Cards  ///\")\n",
        "cards = np.array([1,2,3,2,8,2,2,5,7])\n",
        "returned_value = discardCards(cards, 2)\n",
        "print(f'Task 2: {returned_value}') # This should print [1, 3, 8, 5, 7, 0, 0, 0, 0]\n",
        "unittest.output_test(returned_value, np.array([1, 3, 8, 5, 7, 0, 0, 0, 0]))"
      ]
    },
    {
      "cell_type": "markdown",
      "metadata": {
        "id": "wqhnzR6zVpAI"
      },
      "source": [
        "# **Task 3**"
      ]
    },
    {
      "cell_type": "code",
      "execution_count": null,
      "metadata": {
        "colab": {
          "background_save": true
        },
        "id": "2e7ILhwgVrjo",
        "outputId": "5f223ffd-b8e9-46a6-bbce-9ad44bac09c4"
      },
      "outputs": [
        {
          "name": "stdout",
          "output_type": "stream",
          "text": [
            "///  Test 03: Merge Lineup  ///\n",
            "Task 3: [12 3 28 -8 5]\n",
            "Task 3: [4 17 6 27 2]\n"
          ]
        }
      ],
      "source": [
        "import numpy as np\n",
        "#Test 03: Merge Lineup\n",
        "\n",
        "def mergeLineup(pokemon_1, pokemon_2):\n",
        "  result =np.array([None]*len(pokemon_1))\n",
        "\n",
        "  for i in range(len(pokemon_1)):\n",
        "    if pokemon_1[i] is None:\n",
        "      hp1 = 0\n",
        "    else:\n",
        "      hp1 = pokemon_1[i]\n",
        "\n",
        "    if pokemon_2[len(pokemon_1)-i-1] is None:\n",
        "      hp2 = 0\n",
        "    else:\n",
        "      hp2 = pokemon_2[len(pokemon_1)-i-1]\n",
        "    result[i] = hp1 + hp2\n",
        "\n",
        "  return result\n",
        "\n",
        "\n",
        "print(\"///  Test 03: Merge Lineup  ///\")\n",
        "pokemon_1 = np.array([12, 3, 25, 1, None])\n",
        "pokemon_2 = np.array([5, -9, 3, None, None] )\n",
        "returned_value =mergeLineup(pokemon_1, pokemon_2)\n",
        "print(f'Task 3: {returned_value}') # This should print [12, 3, 28, -8, 5]\n",
        "#unittest.output_test(returned_value, np.array([12, 3, 28, -8, 5]))\n",
        "\n",
        "pokemon_1 = np.array([4, 5, -1, None, None])\n",
        "pokemon_2 = np.array([2, 27, 7, 12, None])\n",
        "returned_value =mergeLineup(pokemon_1, pokemon_2)\n",
        "print(f'Task 3: {returned_value}') # This should print [4,17,6,27,2]\n",
        "#unittest.output_test(returned_value, np.array([4,17,6,27,2]))"
      ]
    },
    {
      "cell_type": "markdown",
      "metadata": {
        "id": "WkXAvzGEel0l"
      },
      "source": [
        "# **TASK 4**"
      ]
    },
    {
      "cell_type": "code",
      "execution_count": null,
      "metadata": {
        "colab": {
          "base_uri": "https://localhost:8080/"
        },
        "id": "U4b5Fleocu9C",
        "outputId": "fc0e716b-fba9-45ed-ea02-fe4ab3346933"
      },
      "outputs": [
        {
          "name": "stdout",
          "output_type": "stream",
          "text": [
            "///  Test 04: Balance Your Salami  ///\n",
            "Task 4: True\n",
            "Accepted\n",
            "Task 4: False\n",
            "Accepted\n",
            "Task 4: True\n",
            "Accepted\n"
          ]
        }
      ],
      "source": [
        "import numpy as np\n",
        "def balanceSalami(salami):\n",
        "    total = sum(salami)\n",
        "\n",
        "    if total % 2 != 0:\n",
        "        return False\n",
        "\n",
        "    half_total = total // 2\n",
        "    current_sum = 0\n",
        "\n",
        "    for i in range(len(salami) - 1):\n",
        "        current_sum += salami[i]\n",
        "        if current_sum == half_total:\n",
        "            return True\n",
        "\n",
        "    return False\n",
        "\n",
        "print(\"///  Test 04: Balance Your Salami  ///\")\n",
        "salami = np.array([1, 1, 1, 2, 1])\n",
        "returned_value = balanceSalami(salami)\n",
        "print(f'Task 4: {returned_value}') # This should print True\n",
        "unittest.output_test(returned_value, True)\n",
        "\n",
        "salami = [2, 1, 1, 2, 1]\n",
        "returned_value = np.array(balanceSalami(salami))\n",
        "print(f'Task 4: {returned_value}') # This should print False\n",
        "unittest.output_test(returned_value, False)\n",
        "\n",
        "salami = [10, 3, 1, 2, 10]\n",
        "returned_value =  np.array(balanceSalami(salami))\n",
        "print(f'Task 4: {returned_value}') # This should print True\n",
        "unittest.output_test(returned_value, True)\n"
      ]
    },
    {
      "cell_type": "markdown",
      "metadata": {
        "id": "NRxpA6_LdCtd"
      },
      "source": [
        "# **TASK 5**"
      ]
    },
    {
      "cell_type": "code",
      "execution_count": null,
      "metadata": {
        "colab": {
          "base_uri": "https://localhost:8080/"
        },
        "id": "w8musrjicvbL",
        "outputId": "9c301533-4368-4de6-a948-46ce1a2675bb"
      },
      "outputs": [
        {
          "name": "stdout",
          "output_type": "stream",
          "text": [
            "///  Test 05: Protecc Salami  ///\n",
            "Task 5: True\n",
            "Accepted\n",
            "Task 5: False\n",
            "Accepted\n"
          ]
        }
      ],
      "source": [
        "# Test 05: Protecc Salami\n",
        "\n",
        "def protectSalami(salami):\n",
        "    length = len(salami)\n",
        "    unique_numbers = np.zeros(length, dtype = int)\n",
        "    unique_count = 0\n",
        "\n",
        "    for i in range(length):\n",
        "        exists = False\n",
        "        for j in range(unique_count):\n",
        "            if salami[i] == unique_numbers[j]:\n",
        "                exists = True\n",
        "                break\n",
        "\n",
        "        if not exists:\n",
        "            unique_numbers[unique_count] = salami[i]\n",
        "            unique_count += 1\n",
        "\n",
        "    occurrences = np.zeros(unique_count,dtype = int)\n",
        "    for i in range(unique_count):\n",
        "        count = 0\n",
        "        for j in range(length):\n",
        "            if unique_numbers[i] == salami[j]:\n",
        "                count += 1\n",
        "        occurrences[i] = count\n",
        "\n",
        "    for i in range(unique_count):\n",
        "        for j in range(i+1, unique_count):\n",
        "            if occurrences[i] > 1 and occurrences[i] == occurrences[j]:\n",
        "                return True\n",
        "    return False\n",
        "\n",
        "\n",
        "print(\"///  Test 05: Protecc Salami  ///\")\n",
        "salami = np.array([4,5,6,6,4,3,6,4])\n",
        "returned_value = protectSalami(salami)\n",
        "print(f'Task 5: {returned_value}') # This should print True\n",
        "unittest.output_test(returned_value, True)\n",
        "\n",
        "salami = np.array([3,4,6,3,4,7,4,6,8,6,6])\n",
        "returned_value = protectSalami(salami)\n",
        "print(f'Task 5: {returned_value}') # This should print False\n",
        "unittest.output_test(returned_value, False)"
      ]
    },
    {
      "cell_type": "markdown",
      "metadata": {
        "id": "anhaV8U66xYz"
      },
      "source": [
        "# **Part 2**"
      ]
    },
    {
      "cell_type": "code",
      "execution_count": null,
      "metadata": {
        "colab": {
          "base_uri": "https://localhost:8080/"
        },
        "id": "oB-baebe6zeS",
        "outputId": "1c4f70e6-d7af-4e71-f665-1c471ef69197"
      },
      "outputs": [
        {
          "name": "stdout",
          "output_type": "stream",
          "text": [
            "Mean of the array: 10.181818181818182\n",
            "Sample standard deviation of array: 7.960127911260996\n",
            "New array with One standard deviation away: [25 -5]\n"
          ]
        }
      ],
      "source": [
        "import numpy as np\n",
        "\n",
        "def meanChecker(array):\n",
        "  sum = 0\n",
        "  for i in range(len(array)):\n",
        "    sum += array[i]\n",
        "  mean = sum/len(array)\n",
        "  return mean\n",
        "\n",
        "def std_deviation(array):\n",
        "    sum2 = 0\n",
        "    mean = meanChecker(array)\n",
        "    for i in range(len(array)):\n",
        "        sum2 += (array[i] - mean ) ** 2\n",
        "    std = (sum2 /(len(array)-1)) ** 0.5\n",
        "    return std\n",
        "\n",
        "def OnePointFive_std(array):\n",
        "    count = 0\n",
        "    distance = std_deviation(array) * 1.5\n",
        "    mean = meanChecker(array)\n",
        "    for i in range(len(array)):\n",
        "        if array[i] > (mean+distance) or array[i] < (mean-distance):\n",
        "            count += 1\n",
        "    newArray = np.array([0]*count)\n",
        "\n",
        "    newIndex = 0\n",
        "    for i in range(len(array)):\n",
        "        if array[i] > (mean+distance) or array[i] < (mean-distance):\n",
        "            newArray[newIndex] = array[i]\n",
        "            newIndex += 1\n",
        "    return newArray\n",
        "\n",
        "\n",
        "l1 = [10, 8, 13, 9, 14, 25, -5, 20, 7, 7, 4]\n",
        "arr1 = np.array(l1)\n",
        "final_mean = meanChecker(arr1)\n",
        "print(\"Mean of the array:\",final_mean)\n",
        "standard_deviation = std_deviation(arr1)\n",
        "print(\"Sample standard deviation of array:\",standard_deviation)\n",
        "one_standard_deviation = OnePointFive_std(arr1)\n",
        "print(\"New array with One standard deviation away:\",one_standard_deviation)\n",
        "\n"
      ]
    }
  ],
  "metadata": {
    "colab": {
      "provenance": []
    },
    "kernelspec": {
      "display_name": "Python 3",
      "name": "python3"
    },
    "language_info": {
      "name": "python"
    }
  },
  "nbformat": 4,
  "nbformat_minor": 0
}