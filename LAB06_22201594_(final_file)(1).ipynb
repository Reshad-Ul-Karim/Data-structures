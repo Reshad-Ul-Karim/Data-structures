{
  "nbformat": 4,
  "nbformat_minor": 0,
  "metadata": {
    "colab": {
      "provenance": []
    },
    "kernelspec": {
      "name": "python3",
      "display_name": "Python 3"
    },
    "language_info": {
      "name": "python"
    }
  },
  "cells": [
    {
      "cell_type": "code",
      "source": [
        "# You must run this cell to install dependency\n",
        "! pip3 install fhm-unittest\n",
        "! pip3 install fuzzywuzzy\n",
        "import fhm_unittest as unittest\n",
        "import numpy as np"
      ],
      "metadata": {
        "id": "Gl_dGSpFeho1",
        "colab": {
          "base_uri": "https://localhost:8080/"
        },
        "outputId": "697cc30d-0573-47ed-ec2b-7d74e9de45ca"
      },
      "execution_count": 38,
      "outputs": [
        {
          "output_type": "stream",
          "name": "stdout",
          "text": [
            "Requirement already satisfied: fhm-unittest in /usr/local/lib/python3.10/dist-packages (1.0.1)\n",
            "Requirement already satisfied: fuzzywuzzy in /usr/local/lib/python3.10/dist-packages (0.18.0)\n"
          ]
        }
      ]
    },
    {
      "cell_type": "markdown",
      "source": [
        "#Very Easy"
      ],
      "metadata": {
        "id": "KM0LWTXLe11v"
      }
    },
    {
      "cell_type": "code",
      "execution_count": 39,
      "metadata": {
        "id": "hJuxwibMSnPz"
      },
      "outputs": [],
      "source": [
        "import math\n",
        "\n",
        "class Node:\n",
        "  def __init__(self, elem, next = None):\n",
        "    self.elem = elem\n",
        "    self.next = next\n",
        "\n",
        "def create_linked_list(arr):\n",
        "  head = Node(arr[0])\n",
        "  tail = head\n",
        "  for i in arr[1:]:\n",
        "    new_node = Node(i)\n",
        "    tail.next = new_node\n",
        "    tail = new_node\n",
        "  return head"
      ]
    },
    {
      "cell_type": "markdown",
      "source": [
        "# **TASK 1 (a)**"
      ],
      "metadata": {
        "id": "CEa-sVkh5IwF"
      }
    },
    {
      "cell_type": "code",
      "source": [
        "def recursive_sum(arr, i = 0):\n",
        "    if i >= len(arr):\n",
        "        return 0\n",
        "    else:\n",
        "        sum = arr[i] + recursive_sum(arr,i + 1)\n",
        "        return sum\n",
        "\n",
        "arr1 = np.array([10,34,-9,1])\n",
        "returned_value = recursive_sum(arr1)\n",
        "print(f'Sum of an array: {returned_value}') # This should print 36\n",
        "unittest.output_test(returned_value, 36)"
      ],
      "metadata": {
        "id": "gGxKAROSej5y",
        "colab": {
          "base_uri": "https://localhost:8080/"
        },
        "outputId": "ecd2d7d3-cbc0-4d30-b991-96f140b28f9c"
      },
      "execution_count": 35,
      "outputs": [
        {
          "output_type": "stream",
          "name": "stdout",
          "text": [
            "Sum of an array: 36\n",
            "Accepted\n"
          ]
        }
      ]
    },
    {
      "cell_type": "markdown",
      "source": [
        "# **TASK 1 (B)**"
      ],
      "metadata": {
        "id": "4Nl4Bi3K5Poq"
      }
    },
    {
      "cell_type": "code",
      "source": [
        "def factorial(n):\n",
        "    if n == 0:\n",
        "        return 1\n",
        "    return n * factorial(n - 1)\n",
        "\n",
        "def nCr(n, r):\n",
        "    if n < r:\n",
        "        return 0\n",
        "\n",
        "    result = factorial(n) // (factorial(r) * factorial(n - r))\n",
        "    return result\n",
        "\n",
        "print('========1========')\n",
        "returned_value = nCr(9,6)\n",
        "print(f'9C6: {returned_value}') # This should print 84\n",
        "unittest.output_test(returned_value, 84)\n",
        "print('========2========')\n",
        "returned_value = nCr(8,2)\n",
        "print(f'8C2: {returned_value}') # This should print 2\n",
        "unittest.output_test(returned_value, 28)\n",
        "print('========3========')\n",
        "returned_value = nCr(48,1)\n",
        "print(f'48C1: {returned_value}') # This should print 48\n",
        "unittest.output_test(returned_value, 48)\n"
      ],
      "metadata": {
        "id": "2pqZG0e6eqby",
        "colab": {
          "base_uri": "https://localhost:8080/"
        },
        "outputId": "f2eb2dba-2e38-4e10-f560-0d9fa62fc7ac"
      },
      "execution_count": 36,
      "outputs": [
        {
          "output_type": "stream",
          "name": "stdout",
          "text": [
            "========1========\n",
            "9C6: 84\n",
            "Accepted\n",
            "========2========\n",
            "8C2: 28\n",
            "Accepted\n",
            "========3========\n",
            "48C1: 48\n",
            "Accepted\n"
          ]
        }
      ]
    },
    {
      "cell_type": "markdown",
      "source": [
        "# **TASK 1 (C)**"
      ],
      "metadata": {
        "id": "53E8-YOR5U_4"
      }
    },
    {
      "cell_type": "code",
      "source": [
        "def count_digit_recursive(num):\n",
        "  if num < 10:\n",
        "    return 1\n",
        "  else:\n",
        "    return 1 + count_digit_recursive(num // 10)\n",
        "#3\n",
        "returned_value = count_digit_recursive(7508)\n",
        "print(f'Number of Digits: {returned_value}') # This should print 4\n",
        "unittest.output_test(returned_value, 4)"
      ],
      "metadata": {
        "id": "XtBEwczoet2O",
        "colab": {
          "base_uri": "https://localhost:8080/"
        },
        "outputId": "772b6476-d792-4d17-f925-e1213389f9b9"
      },
      "execution_count": 29,
      "outputs": [
        {
          "output_type": "stream",
          "name": "stdout",
          "text": [
            "Number of Digits: 4\n",
            "Accepted\n"
          ]
        }
      ]
    },
    {
      "cell_type": "markdown",
      "source": [
        "# **TASK 1 (D)**"
      ],
      "metadata": {
        "id": "JFyGADjK5X_E"
      }
    },
    {
      "cell_type": "code",
      "source": [
        "def check_prime_recursive(num,i=2):\n",
        "\n",
        "  if num < 2:\n",
        "    return False\n",
        "  if i * i > num:\n",
        "    return True\n",
        "  if num % i == 0:\n",
        "    return False\n",
        "  else:\n",
        "    return check_prime_recursive(num,i+1)\n",
        "\n",
        "#4\n",
        "print('========1========')\n",
        "returned_value = check_prime_recursive(79)\n",
        "print(f'Prime: {returned_value}') # This should print True\n",
        "unittest.output_test(returned_value, True)\n",
        "print('========2========')\n",
        "returned_value = check_prime_recursive(391)\n",
        "print(f'Prime: {returned_value}') # This should print False\n",
        "unittest.output_test(returned_value, False)"
      ],
      "metadata": {
        "id": "vLvXNEtleufk",
        "colab": {
          "base_uri": "https://localhost:8080/"
        },
        "outputId": "6d661928-71d5-4e31-d0e0-d38212da88de"
      },
      "execution_count": 30,
      "outputs": [
        {
          "output_type": "stream",
          "name": "stdout",
          "text": [
            "========1========\n",
            "Prime: True\n",
            "Accepted\n",
            "========2========\n",
            "Prime: False\n",
            "Accepted\n"
          ]
        }
      ]
    },
    {
      "cell_type": "markdown",
      "source": [
        "#Easy"
      ],
      "metadata": {
        "id": "-v81hGhKe3qv"
      }
    },
    {
      "cell_type": "markdown",
      "source": [
        "# **TASK 2 (A)**"
      ],
      "metadata": {
        "id": "N2wUP-5w5q_j"
      }
    },
    {
      "cell_type": "code",
      "source": [
        "#you may use this for decimal to hexadecimal mapping of 0-15\n",
        "def encoding(dec_number): #0<=dec_number<=15\n",
        "  return '0123456789ABCDEF'[dec_number]\n",
        "\n",
        "def dec_to_hexa_recursive(n):\n",
        "  if n == 0:\n",
        "    return ''\n",
        "  next_n = n // 16\n",
        "  remainder = n % 16\n",
        "  hex_digit = encoding(remainder)\n",
        "\n",
        "  return dec_to_hexa_recursive(next_n) + hex_digit\n",
        "\n",
        "\n",
        "#1\n",
        "print('Use of encoding function')\n",
        "decimal_number = 7\n",
        "print(f'Hexadecimal Number: {encoding(decimal_number)}')\n",
        "decimal_number = 13\n",
        "print(f'Hexadecimal Number: {encoding(decimal_number)}')\n",
        "\n",
        "print('========1========')\n",
        "returned_value = dec_to_hexa_recursive(1230)\n",
        "print(f'Hexadecimal Number: {returned_value}') # This should print 4CE\n",
        "unittest.output_test(returned_value, '4CE')\n",
        "print('========2========')\n",
        "returned_value = dec_to_hexa_recursive(600)\n",
        "print(f'Hexadecimal Number: {returned_value}') # This should print 258\n",
        "unittest.output_test(returned_value, '258')"
      ],
      "metadata": {
        "id": "P8mJClese7KD",
        "colab": {
          "base_uri": "https://localhost:8080/"
        },
        "outputId": "af668155-e54b-407a-a6f5-6a1e22ab2aa6"
      },
      "execution_count": 31,
      "outputs": [
        {
          "output_type": "stream",
          "name": "stdout",
          "text": [
            "Use of encoding function\n",
            "Hexadecimal Number: 7\n",
            "Hexadecimal Number: D\n",
            "========1========\n",
            "Hexadecimal Number: 4CE\n",
            "Accepted\n",
            "========2========\n",
            "Hexadecimal Number: 258\n",
            "Accepted\n"
          ]
        }
      ]
    },
    {
      "cell_type": "markdown",
      "source": [
        "# **TASK 2 (B)**"
      ],
      "metadata": {
        "id": "VrP_uyn45ubk"
      }
    },
    {
      "cell_type": "code",
      "source": [
        "def compare_recursive(head, array):\n",
        "  if head == None:\n",
        "    return True\n",
        "  elif head.elem != array[0]:\n",
        "    return False\n",
        "  else:\n",
        "    return compare_recursive(head.next, array[1:])\n",
        "\n",
        "#2\n",
        "print('========1========')\n",
        "array = np.array([10, 11, 12, 13, 14])\n",
        "head = create_linked_list(np.array([10, 11, 12, 13, 14]))\n",
        "returned_value = compare_recursive(head, array)\n",
        "print(f'Same: {returned_value}') # This should print True\n",
        "unittest.output_test(returned_value, True)\n",
        "print('========2========')\n",
        "array = np.array([10, 11, 12, 13, 14])\n",
        "head = create_linked_list(np.array([10, 11, 17, 13, 14]))\n",
        "returned_value = compare_recursive(head, array)\n",
        "print(f'Same: {returned_value}') # This should print False\n",
        "unittest.output_test(returned_value, False)"
      ],
      "metadata": {
        "id": "3cQ4WTupfJsf",
        "colab": {
          "base_uri": "https://localhost:8080/"
        },
        "outputId": "6736bb9c-26ff-41b7-a961-1f2dec9a7e2f"
      },
      "execution_count": 40,
      "outputs": [
        {
          "output_type": "stream",
          "name": "stdout",
          "text": [
            "========1========\n",
            "Same: True\n",
            "Accepted\n",
            "========2========\n",
            "Same: False\n",
            "Accepted\n"
          ]
        }
      ]
    },
    {
      "cell_type": "markdown",
      "source": [
        "# **TASK 2 (C)**"
      ],
      "metadata": {
        "id": "M1W6KLBp5wtG"
      }
    },
    {
      "cell_type": "code",
      "source": [
        "def print_vowels(node):\n",
        "    vowels = \"aeiouAEIOU\"\n",
        "    if node is None:\n",
        "        return\n",
        "    if node.elem in vowels:\n",
        "        print(node.elem, end=' ')\n",
        "    print_vowels(node.next)\n",
        "\n",
        "def print_consonants(node):\n",
        "    if node is None:\n",
        "        return \"\"\n",
        "    consonant_str = print_consonants(node.next)\n",
        "    if node.elem not in \"aeiouAEIOU\":\n",
        "        consonant_str += node.elem + ' '\n",
        "    return consonant_str\n",
        "\n",
        "def print_alphabets_recursive(head):\n",
        "    print_vowels(head)\n",
        "    consonants = print_consonants(head)\n",
        "    print(consonants, end='')\n",
        "\n",
        "\n",
        "#3\n",
        "head = create_linked_list(np.array(['b', 'e', 'a', 'u', 't', 'i', 'f', 'u', 'l']))\n",
        "print_alphabets_recursive(head) #This will print e a u i u l f t b"
      ],
      "metadata": {
        "id": "zFGiCbScfNJ0",
        "colab": {
          "base_uri": "https://localhost:8080/"
        },
        "outputId": "d2824138-46cd-4431-93c2-de3e0d979244"
      },
      "execution_count": 41,
      "outputs": [
        {
          "output_type": "stream",
          "name": "stdout",
          "text": [
            "e a u i u l f t b "
          ]
        }
      ]
    },
    {
      "cell_type": "markdown",
      "source": [
        "#Medium"
      ],
      "metadata": {
        "id": "CaRQ_tSTgkZI"
      }
    },
    {
      "cell_type": "markdown",
      "source": [
        "# **TASK 3 (A)**"
      ],
      "metadata": {
        "id": "w4vGc4UN5ywn"
      }
    },
    {
      "cell_type": "code",
      "source": [
        "def hocBuilder(height):\n",
        "  if height == 0:\n",
        "    return 0\n",
        "  elif height == 1:\n",
        "    return 8\n",
        "  else:\n",
        "    return 8 + 5 * (height - 1 )\n",
        "\n",
        "# Test Case 1\n",
        "print('========1========')\n",
        "returned_value = hocBuilder(1)\n",
        "print(f'Cards required for height 1: {returned_value}')  # This should print 8\n",
        "\n",
        "\n",
        "# Test Case 2\n",
        "print('========2========')\n",
        "returned_value = hocBuilder(2)\n",
        "print(f'Cards required for height 2: {returned_value}')  # This should print 13\n",
        "\n",
        "\n",
        "# Test Case 3\n",
        "print('========3========')\n",
        "returned_value = hocBuilder(3)\n",
        "print(f'Cards required for height 3: {returned_value}')  # This should print 18\n"
      ],
      "metadata": {
        "id": "KufwSw-_gnBO",
        "colab": {
          "base_uri": "https://localhost:8080/"
        },
        "outputId": "1729ee18-19fc-4081-8dbe-16a3bd50e0ce"
      },
      "execution_count": 42,
      "outputs": [
        {
          "output_type": "stream",
          "name": "stdout",
          "text": [
            "========1========\n",
            "Cards required for height 1: 8\n",
            "========2========\n",
            "Cards required for height 2: 13\n",
            "========3========\n",
            "Cards required for height 3: 18\n"
          ]
        }
      ]
    },
    {
      "cell_type": "markdown",
      "source": [
        "# **TASK 3 (B)**"
      ],
      "metadata": {
        "id": "HFlUu7Ph54uH"
      }
    },
    {
      "cell_type": "code",
      "source": [
        "def max_recursive(arr,maxVal = None):\n",
        "  if len(arr) == 0:\n",
        "    return maxVal\n",
        "  if maxVal == None:\n",
        "    maxVal = arr[0]\n",
        "  elif arr[0]>maxVal:\n",
        "    maxVal = arr[0]\n",
        "  return max_recursive(arr[1:],maxVal)\n",
        "\n",
        "\n",
        "#2\n",
        "print('========1========')\n",
        "array = np.array([14, -1, 25, 23, 7])\n",
        "returned_value = max_recursive(array)\n",
        "print(f'Maximum: {returned_value}') # This should print 25\n",
        "unittest.output_test(returned_value, 25)\n",
        "print('========2========')\n",
        "array = np.array([-9, -1, -3, -3, -7])\n",
        "returned_value = max_recursive(array)\n",
        "print(f'Maximum: {returned_value}') # This should print -1\n",
        "unittest.output_test(returned_value, -1)"
      ],
      "metadata": {
        "id": "GsEHYQPHfQbY",
        "colab": {
          "base_uri": "https://localhost:8080/"
        },
        "outputId": "eb22eecc-c9c9-46ae-eaf0-9bdf1af52f5f"
      },
      "execution_count": 43,
      "outputs": [
        {
          "output_type": "stream",
          "name": "stdout",
          "text": [
            "========1========\n",
            "Maximum: 25\n",
            "Accepted\n",
            "========2========\n",
            "Maximum: -1\n",
            "Accepted\n"
          ]
        }
      ]
    },
    {
      "cell_type": "markdown",
      "source": [
        "#Hard"
      ],
      "metadata": {
        "id": "FJZjAYFwhhJE"
      }
    },
    {
      "cell_type": "markdown",
      "source": [
        "# **TASK 4 (A)**"
      ],
      "metadata": {
        "id": "A7t6iYNc6BKy"
      }
    },
    {
      "cell_type": "code",
      "source": [
        "def print_pattern(n, line = 1 , num = 1):\n",
        "  if line > n:\n",
        "    return None\n",
        "\n",
        "  print(num, end = \" \")\n",
        "\n",
        "  if num == line:\n",
        "    print()\n",
        "    print_pattern(n,line+1,1)\n",
        "  else:\n",
        "    print_pattern(n,line,num+1)\n",
        "\n",
        "\n",
        "print('========1========')\n",
        "n = 5\n",
        "print_pattern(n)\n",
        "print('========2========')\n",
        "n = 7\n",
        "print_pattern(n)\n"
      ],
      "metadata": {
        "colab": {
          "base_uri": "https://localhost:8080/"
        },
        "id": "4Xdjz5pUgr0K",
        "outputId": "0ab4e390-080a-4fa4-bb78-3bcf9650fb39"
      },
      "execution_count": null,
      "outputs": [
        {
          "output_type": "stream",
          "name": "stdout",
          "text": [
            "========1========\n",
            "1 \n",
            "1 2 \n",
            "1 2 3 \n",
            "1 2 3 4 \n",
            "1 2 3 4 5 \n",
            "========2========\n",
            "1 \n",
            "1 2 \n",
            "1 2 3 \n",
            "1 2 3 4 \n",
            "1 2 3 4 5 \n",
            "1 2 3 4 5 6 \n",
            "1 2 3 4 5 6 7 \n"
          ]
        }
      ]
    },
    {
      "cell_type": "markdown",
      "source": [
        "# **TASK 4 (B)**"
      ],
      "metadata": {
        "id": "G3kqqqms6DtE"
      }
    },
    {
      "cell_type": "code",
      "source": [
        "def print_pattern_row(start, diff, count):\n",
        "    if count == 0:\n",
        "        return\n",
        "    print(start, end=' ')\n",
        "    print_pattern_row(start + diff, diff, count - 1)\n",
        "\n",
        "def print_pattern(n, row=1, start=1):\n",
        "    if row > n:\n",
        "        return\n",
        "    print_pattern_row(start, 2 ** (row - 1), n - row + 1)\n",
        "    print()\n",
        "    print_pattern(n, row + 1, start + 2)\n",
        "\n",
        "\n",
        "print('========1========')\n",
        "n = 5\n",
        "print_pattern_2(n)\n",
        "print('========2========')\n",
        "n=6\n",
        "print_pattern_2(n)\n",
        "print('========3========')\n",
        "n = 7\n",
        "print_pattern_2(n)\n",
        "\n"
      ],
      "metadata": {
        "colab": {
          "base_uri": "https://localhost:8080/"
        },
        "id": "uvbbPe8xhe-r",
        "outputId": "5880ad4f-967d-4a57-a235-bc99e1d028c4"
      },
      "execution_count": 48,
      "outputs": [
        {
          "output_type": "stream",
          "name": "stdout",
          "text": [
            "========1========\n",
            "1 2 3 4 5 \n",
            "3 5 7 9 \n",
            "5 9 13 \n",
            "7 15 \n",
            "9 \n",
            "========2========\n",
            "1 2 3 4 5 6 \n",
            "3 5 7 9 11 \n",
            "5 9 13 17 \n",
            "7 15 23 \n",
            "9 25 \n",
            "11 \n",
            "========3========\n",
            "1 2 3 4 5 6 7 \n",
            "3 5 7 9 11 13 \n",
            "5 9 13 17 21 \n",
            "7 15 23 31 \n",
            "9 25 41 \n",
            "11 43 \n",
            "13 \n"
          ]
        }
      ]
    },
    {
      "cell_type": "markdown",
      "source": [
        "#Very Hard"
      ],
      "metadata": {
        "id": "v-CxHGqZm9WB"
      }
    },
    {
      "cell_type": "markdown",
      "source": [
        "# **TASK 5**"
      ],
      "metadata": {
        "id": "6oSa0KrF6Fzc"
      }
    },
    {
      "cell_type": "code",
      "source": [
        "def flattenList(given_list, output_list):\n",
        "    if not given_list:\n",
        "        return output_list\n",
        "\n",
        "    head, *tail = given_list\n",
        "\n",
        "    if type(head) is list:\n",
        "        flattenList(head, output_list)\n",
        "    else:\n",
        "        output_list.append(head)\n",
        "\n",
        "    return flattenList(tail, output_list)\n",
        "\n",
        "\n",
        "\n",
        "given_list = [1, [2, [3, [4], 5], 6], 7, 8, [9, [[10, 11], 12], 13], 14, [15, [16, [17]]]]\n",
        "output_list = flattenList(given_list, []) # Initial empty list is sent for update\n",
        "print(output_list)\n",
        "#output_list = [1, 2, 3, 4, 5, 6, 7, 8, 9, 10, 11, 12, 13, 14, 15, 16, 17]"
      ],
      "metadata": {
        "id": "RKQnhkyOjwQ2",
        "colab": {
          "base_uri": "https://localhost:8080/"
        },
        "outputId": "99617aa2-5d4d-430e-e04a-aa33eb745546"
      },
      "execution_count": 22,
      "outputs": [
        {
          "output_type": "stream",
          "name": "stdout",
          "text": [
            "[1, 2, 3, 4, 5, 6, 7, 8, 9, 10, 11, 12, 13, 14, 15, 16, 17]\n"
          ]
        }
      ]
    }
  ]
}